{
  "nbformat": 4,
  "nbformat_minor": 0,
  "metadata": {
    "colab": {
      "name": "Learning Lab 6.ipynb",
      "version": "0.3.2",
      "provenance": [],
      "collapsed_sections": []
    },
    "kernelspec": {
      "name": "python3",
      "display_name": "Python 3"
    },
    "accelerator": "GPU"
  },
  "cells": [
    {
      "metadata": {
        "id": "ok7a1lk_mbES",
        "colab_type": "code",
        "colab": {}
      },
      "cell_type": "code",
      "source": [
        "%matplotlib inline"
      ],
      "execution_count": 0,
      "outputs": []
    },
    {
      "metadata": {
        "id": "oqkK9E-jmbEZ",
        "colab_type": "text"
      },
      "cell_type": "markdown",
      "source": [
        "\n",
        "Training a Neural Network\n",
        "=====================\n",
        "\n",
        "This Learning Lab is adapted from the [Pytorch: A 60 Minute Blitz](https://pytorch.org/tutorials/beginner/deep_learning_60min_blitz.html). You can find additional help and resources there.\n",
        "\n",
        "In this Learning Lab, you will learn how to\n",
        "\n",
        "1. Load and normalize the CIFAR10 training and test datasets using ``torchvision``\n",
        "2. Define a Convolution Neural Network\n",
        "3. Define a loss function\n",
        "4. Train the network on the training data\n",
        "5. Test the network on the test data\n",
        "6. Make modifications to improve the network\n",
        "\n",
        "\n",
        "# 1. Starting with Data\n",
        "----------------------\n",
        "\n",
        "Pytorch is generally setup so that you can use standard python packages that load data into a numpy array.\n",
        "Once you have the array, you can simply into convert it into a Pytorch's native ``torch.*Tensor``.\n",
        "\n",
        "-  For images, packages such as Pillow, OpenCV are useful\n",
        "-  For audio, packages such as scipy and librosa\n",
        "-  For text, either raw Python or Cython based loading, or NLTK and\n",
        "   SpaCy are useful\n",
        "\n",
        "Specifically for vision, there is a whole set of useful functions inside the package ``torchvision``.\n",
        "It has data loaders for common datasets such as\n",
        "Imagenet, CIFAR10, MNIST, etc. and data transformers for images, viz.,\n",
        "``torchvision.datasets`` and ``torch.utils.data.DataLoader``.\n",
        "This provides a huge convenience and avoids writing boilerplate code.\n",
        "\n",
        "For this Learning Lab, we will use the CIFAR10 dataset.\n",
        "It has the classes: ‘airplane’, ‘automobile’, ‘bird’, ‘cat’, ‘deer’,\n",
        "‘dog’, ‘frog’, ‘horse’, ‘ship’, ‘truck’. The images in CIFAR-10 are of\n",
        "32x32 with  3-channel color.\n",
        "Examples of such images can be found [here](https://storage.googleapis.com/kaggle-competitions/kaggle/3649/media/cifar-10.png).\n",
        "\n",
        "**Note: Pytorch defines data with channel dimension first (i.e. ch, rows, cols). \n",
        "Thus, CIFAR-10 images are a 3x32x32 tensor.\n",
        "This is different than how we generally think about images in Numpy (i.e. rows, cols, ch)**\n",
        "\n",
        "If we are using torchvision data, the loading process is very easy."
      ]
    },
    {
      "metadata": {
        "id": "4-R1BTVKmbEa",
        "colab_type": "code",
        "colab": {}
      },
      "cell_type": "code",
      "source": [
        "import torch\n",
        "import torchvision"
      ],
      "execution_count": 0,
      "outputs": []
    },
    {
      "metadata": {
        "id": "jnJvsqlwmbEf",
        "colab_type": "text"
      },
      "cell_type": "markdown",
      "source": [
        "Before we load the data, we want to tell Pytorch that we want to normalize the images.\n",
        "The output of torchvision datasets are PILImage images of range [0, 1].\n",
        "Instead, we will define a transform that will normalize the range to [-1, 1].\n"
      ]
    },
    {
      "metadata": {
        "id": "FoHkERZimbEh",
        "colab_type": "code",
        "colab": {}
      },
      "cell_type": "code",
      "source": [
        "import torchvision.transforms as transforms\n",
        "\n",
        "transform = transforms.Compose(\n",
        "    [transforms.ToTensor(),\n",
        "     transforms.Normalize((0.5, 0.5, 0.5), (0.5, 0.5, 0.5))])"
      ],
      "execution_count": 0,
      "outputs": []
    },
    {
      "metadata": {
        "id": "RvfA-wt5p_5y",
        "colab_type": "text"
      },
      "cell_type": "markdown",
      "source": [
        "Now we can load the data with the appropriate transform. Note: this may take up some space in your Google Drive."
      ]
    },
    {
      "metadata": {
        "id": "SY0WxTbvqBz6",
        "colab_type": "code",
        "outputId": "17a59b57-76fc-4893-a40a-60348f954093",
        "colab": {
          "base_uri": "https://localhost:8080/",
          "height": 50
        }
      },
      "cell_type": "code",
      "source": [
        "trainset = torchvision.datasets.CIFAR10(root='./data', train=True,\n",
        "                                        download=True, transform=transform)\n",
        "trainloader = torch.utils.data.DataLoader(trainset, batch_size=4,\n",
        "                                          shuffle=True, num_workers=2)\n",
        "\n",
        "testset = torchvision.datasets.CIFAR10(root='./data', train=False,\n",
        "                                       download=True, transform=transform)\n",
        "testloader = torch.utils.data.DataLoader(testset, batch_size=4,\n",
        "                                         shuffle=False, num_workers=2)\n",
        "\n",
        "classes = ('plane', 'car', 'bird', 'cat',\n",
        "           'deer', 'dog', 'frog', 'horse', 'ship', 'truck')"
      ],
      "execution_count": 4,
      "outputs": [
        {
          "output_type": "stream",
          "text": [
            "Files already downloaded and verified\n",
            "Files already downloaded and verified\n"
          ],
          "name": "stdout"
        }
      ]
    },
    {
      "metadata": {
        "id": "AIz7sgE2mbEl",
        "colab_type": "text"
      },
      "cell_type": "markdown",
      "source": [
        "Let us show some of the training images, for fun.\n",
        "\n"
      ]
    },
    {
      "metadata": {
        "id": "h2wJrUbKmbEm",
        "colab_type": "code",
        "colab": {
          "base_uri": "https://localhost:8080/",
          "height": 154
        },
        "outputId": "eb0203cb-cece-4c5f-d5c1-a20dcc3d0dca"
      },
      "cell_type": "code",
      "source": [
        "import matplotlib.pyplot as plt\n",
        "import numpy as np\n",
        "\n",
        "# functions to show an image\n",
        "\n",
        "\n",
        "def imshow(img):\n",
        "    img = img / 2 + 0.5     # unnormalize\n",
        "    npimg = img.numpy()\n",
        "    plt.imshow(np.transpose(npimg, (1, 2, 0)))\n",
        "\n",
        "\n",
        "# get some random training images\n",
        "dataiter = iter(trainloader)\n",
        "images, labels = dataiter.next()\n",
        "\n",
        "# show images\n",
        "imshow(torchvision.utils.make_grid(images))\n",
        "# print labels\n",
        "print(' '.join('%5s' % classes[labels[j]] for j in range(4)))"
      ],
      "execution_count": 5,
      "outputs": [
        {
          "output_type": "stream",
          "text": [
            " ship   car truck  bird\n"
          ],
          "name": "stdout"
        },
        {
          "output_type": "display_data",
          "data": {
            "image/png": "[encoded data removed]",
            "text/plain": [
              "<Figure size 432x288 with 1 Axes>"
            ]
          },
          "metadata": {
            "tags": []
          }
        }
      ]
    },
    {
      "metadata": {
        "id": "NibUHOlwmbEq",
        "colab_type": "text"
      },
      "cell_type": "markdown",
      "source": [
        "# 2. Define a Convolution Neural Network\n",
        "----------------------------------------\n",
        "\n",
        "The next step is to design the network that will be learning how to classify the images. A network is designed of many, many weights that are individually manipulated to get closer to a desired outcome. For simplicity, we can think of these weights in the network in terms of structural layers. Here are the two main layers of a network we will need:\n",
        "\n",
        "- **Convolutional Layers**: These layers act as sliding widows across an image and learn to extract useful information from the image (think of a learned version of SIFT).\n",
        "\n",
        "- **Fully Connected Layers**: These layers gather all the features extracted from the convolutional layers and use them to categorize features together. They are also used as the last layer to determine the final categorization of the image.\n",
        "\n",
        "Additionally, we will need two more important structures in a neural network:\n",
        "\n",
        "- **Pooling Layers**: These layers don't have any learned weights, but instead are used to resize the output of the network. In this case, we are using ``MaxPool2d``, which takes the maximum value from a grouping of features. This can be useful for reducing noise.\n",
        "\n",
        "- **Nonlinear Functions**: We don't have time to go into detail here, but nonlinear functions are the whole reason neural networks can be so deep. A nonlinear function is applied to output of each learned layer of the network. In this case, we are using ``relu`` which allows the network to zero-out features it doesn't think will be useful.\n",
        "\n",
        "\n",
        "Now that we know all the possible layers, let's design the network. It is going to have two convolutional layers, three fully connected layers, it will use max pooling, and ReLU's as the nonlinear function. We define all our layers first in the ``__init__`` method, then we describe how they are connected in the ``forward`` method."
      ]
    },
    {
      "metadata": {
        "id": "3S2bYjmcmbEr",
        "colab_type": "code",
        "colab": {}
      },
      "cell_type": "code",
      "source": [
        "import torch.nn as nn\n",
        "import torch.nn.functional as F\n",
        "\n",
        "\n",
        "class Net(nn.Module):\n",
        "    def __init__(self):\n",
        "        super(Net, self).__init__()\n",
        "        self.conv1 = nn.Conv2d(3, 6, 5) #(number of input channels, number of output channels, stride of sliding window)\n",
        "        self.conv2 = nn.Conv2d(6, 16, 5)\n",
        "        self.fc1 = nn.Linear(16 * 5 * 5, 120) #(number of input channels, number of output channels)\n",
        "        self.fc2 = nn.Linear(120, 84)\n",
        "        self.fc3 = nn.Linear(84, 10)\n",
        "        self.pool = nn.MaxPool2d(2, 2) #(region size to pool (2x2), stride of sliding window)\n",
        "\n",
        "    def forward(self, x):\n",
        "        x = self.pool(F.relu(self.conv1(x)))\n",
        "        x = self.pool(F.relu(self.conv2(x)))\n",
        "        x = x.view(-1, 16 * 5 * 5) # Reshape the features into a 1D array before feeding them into the Fully Connected Layer\n",
        "        x = F.relu(self.fc1(x))\n",
        "        x = F.relu(self.fc2(x))\n",
        "        x = self.fc3(x)\n",
        "        return x"
      ],
      "execution_count": 0,
      "outputs": []
    },
    {
      "metadata": {
        "id": "QpoQmn3qvsFY",
        "colab_type": "text"
      },
      "cell_type": "markdown",
      "source": [
        "If you are wondering how all these numbers are decided for input and output sizes, the short answer is that there really isn't a correct answer to how these are determined.\n",
        "The main three things that must be true are this:\n",
        "\n",
        "1. The input size into the first layer needs to match the number of channels that are present in the input data (in this case, it is 3 for the RGB data we are feeding in).\n",
        "2. The output size of a layer needs to match the input size of the next layer.\n",
        "3. The output size of the last layer must match number of categories you are trying to predict (in this case, 10 for the ten possible categories in CIFAR-10).\n",
        "\n",
        "Designing a network with the right number of layers that are the right size is a skill you will learn the more you practice deep learning.\n",
        "\n",
        "Now that we have a network designed, we now need to instantiate it."
      ]
    },
    {
      "metadata": {
        "id": "er_fe7TXvrnw",
        "colab_type": "code",
        "colab": {}
      },
      "cell_type": "code",
      "source": [
        "net = Net()"
      ],
      "execution_count": 0,
      "outputs": []
    },
    {
      "metadata": {
        "id": "9gMVexzUmbEu",
        "colab_type": "text"
      },
      "cell_type": "markdown",
      "source": [
        "# 3. Define a Loss Function and Optimizer\n",
        "---------------------------------------\n",
        "In order for the network to learn, it needs to know when it has done well and when it has done poorly. This is the purpose of the loss function. For our purposes, we will use Cross Entropy Loss. It has some sophisticated calculations, but essentially it penalizes the network when it categorizes an image wrong and it rewards when it categorizes it right.\n",
        "\n",
        "\n"
      ]
    },
    {
      "metadata": {
        "id": "iyagtxZz9dAD",
        "colab_type": "code",
        "colab": {}
      },
      "cell_type": "code",
      "source": [
        "loss_fn = nn.CrossEntropyLoss()"
      ],
      "execution_count": 0,
      "outputs": []
    },
    {
      "metadata": {
        "id": "0mHO8UID9hXz",
        "colab_type": "text"
      },
      "cell_type": "markdown",
      "source": [
        "Additionally, we need something to change the weights of the network once it knows how it did. This is accomplished through the optimizer. Two standard optimizers are Stochastic Gradient Descent (SGD) and the Adam optimizer. For this lab, we will use SGD."
      ]
    },
    {
      "metadata": {
        "id": "D26YJ-mLmbEv",
        "colab_type": "code",
        "colab": {}
      },
      "cell_type": "code",
      "source": [
        "import torch.optim as optim\n",
        "\n",
        "optimizer = optim.SGD(net.parameters(), lr=0.001, momentum=0.9)"
      ],
      "execution_count": 0,
      "outputs": []
    },
    {
      "metadata": {
        "id": "LdGreFvTmbEy",
        "colab_type": "text"
      },
      "cell_type": "markdown",
      "source": [
        "# 4. Train the Network\n",
        "--------------------------------------\n",
        "\n",
        "This is when things start to get interesting.\n",
        "We simply have to loop over our data iterator, and feed the inputs to the\n",
        "network and optimize. The code below follows standard practice for most training algorithms.\n",
        "\n"
      ]
    },
    {
      "metadata": {
        "id": "HQ0bJbyYmbEz",
        "colab_type": "code",
        "colab": {
          "base_uri": "https://localhost:8080/",
          "height": 233
        },
        "outputId": "fe9fed03-27ea-4951-c2a9-43c4f61938d5"
      },
      "cell_type": "code",
      "source": [
        "for epoch in range(2):  # loop over the dataset multiple times\n",
        "\n",
        "    running_loss = 0.0\n",
        "    for i, data in enumerate(trainloader, 0):\n",
        "        # get the inputs\n",
        "        inputs, labels = data\n",
        "\n",
        "        # zero the parameter gradients\n",
        "        optimizer.zero_grad()\n",
        "\n",
        "        # forward + backward + optimize\n",
        "        outputs = net(inputs)\n",
        "        loss = loss_fn(outputs, labels)\n",
        "        loss.backward()\n",
        "        optimizer.step()\n",
        "\n",
        "        # print statistics\n",
        "        running_loss += loss.item()\n",
        "        if i % 2000 == 1999:    # print every 2000 mini-batches\n",
        "            print('[%d, %5d] loss: %.3f' %\n",
        "                  (epoch + 1, i + 1, running_loss / 2000))\n",
        "            running_loss = 0.0\n",
        "\n",
        "print('Finished Training')"
      ],
      "execution_count": 10,
      "outputs": [
        {
          "output_type": "stream",
          "text": [
            "[1,  2000] loss: 2.242\n",
            "[1,  4000] loss: 1.871\n",
            "[1,  6000] loss: 1.697\n",
            "[1,  8000] loss: 1.609\n",
            "[1, 10000] loss: 1.545\n",
            "[1, 12000] loss: 1.477\n",
            "[2,  2000] loss: 1.406\n",
            "[2,  4000] loss: 1.392\n",
            "[2,  6000] loss: 1.351\n",
            "[2,  8000] loss: 1.325\n",
            "[2, 10000] loss: 1.298\n",
            "[2, 12000] loss: 1.281\n",
            "Finished Training\n"
          ],
          "name": "stdout"
        }
      ]
    },
    {
      "metadata": {
        "id": "AiNEc_SjmbE2",
        "colab_type": "text"
      },
      "cell_type": "markdown",
      "source": [
        "# 5. Test the Network on the Test Data\n",
        "----------------------------------------------------------------\n",
        "\n",
        "We have trained the network for 2 passes over the training dataset.\n",
        "But we need to check if the network has learned anything at all.\n",
        "\n",
        "We will check this by predicting the class label that the neural network\n",
        "outputs, and checking it against the ground-truth. If the prediction is\n",
        "correct, we add the sample to the list of correct predictions.\n",
        "\n",
        "Okay, first step. Let us display an image from the test set to get familiar.\n",
        "\n"
      ]
    },
    {
      "metadata": {
        "id": "20imR9WlmbE3",
        "colab_type": "code",
        "colab": {
          "base_uri": "https://localhost:8080/",
          "height": 154
        },
        "outputId": "4723635f-58ae-421c-c352-89c9ec488938"
      },
      "cell_type": "code",
      "source": [
        "dataiter = iter(testloader)\n",
        "images, labels = dataiter.next()\n",
        "\n",
        "# print images\n",
        "imshow(torchvision.utils.make_grid(images))\n",
        "print('GroundTruth: ', ' '.join('%5s' % classes[labels[j]] for j in range(4)))"
      ],
      "execution_count": 11,
      "outputs": [
        {
          "output_type": "stream",
          "text": [
            "GroundTruth:    cat  ship  ship plane\n"
          ],
          "name": "stdout"
        },
        {
          "output_type": "display_data",
          "data": {
            "image/png": "[encoded data removed]",
            "text/plain": [
              "<Figure size 432x288 with 1 Axes>"
            ]
          },
          "metadata": {
            "tags": []
          }
        }
      ]
    },
    {
      "metadata": {
        "id": "FaoW-Uv_mbE5",
        "colab_type": "text"
      },
      "cell_type": "markdown",
      "source": [
        "Okay, now let us see what the neural network thinks these examples above are:\n",
        "\n"
      ]
    },
    {
      "metadata": {
        "id": "ee5xYzSUmbE6",
        "colab_type": "code",
        "colab": {}
      },
      "cell_type": "code",
      "source": [
        "outputs = net(images)"
      ],
      "execution_count": 0,
      "outputs": []
    },
    {
      "metadata": {
        "id": "aAp8FyjPmbE9",
        "colab_type": "text"
      },
      "cell_type": "markdown",
      "source": [
        "The outputs are energies for the 10 classes.\n",
        "Higher the energy for a class, the more the network\n",
        "thinks that the image is of the particular class.\n",
        "So, let's get the index of the highest energy:\n",
        "\n"
      ]
    },
    {
      "metadata": {
        "id": "i1oSdw0ZmbE9",
        "colab_type": "code",
        "colab": {
          "base_uri": "https://localhost:8080/",
          "height": 33
        },
        "outputId": "42d9ff25-be53-4a59-e33d-44d74719684f"
      },
      "cell_type": "code",
      "source": [
        "_, predicted = torch.max(outputs, 1)\n",
        "\n",
        "print('Predicted: ', ' '.join('%5s' % classes[predicted[j]]\n",
        "                              for j in range(4)))"
      ],
      "execution_count": 13,
      "outputs": [
        {
          "output_type": "stream",
          "text": [
            "Predicted:    cat  ship  ship  ship\n"
          ],
          "name": "stdout"
        }
      ]
    },
    {
      "metadata": {
        "id": "6L6LD2z6mbFA",
        "colab_type": "text"
      },
      "cell_type": "markdown",
      "source": [
        "The results seem pretty good.\n",
        "\n",
        "Let us look at how the network performs on the whole dataset.\n",
        "\n"
      ]
    },
    {
      "metadata": {
        "id": "AjehKLIwmbFB",
        "colab_type": "code",
        "colab": {
          "base_uri": "https://localhost:8080/",
          "height": 33
        },
        "outputId": "d3e164b9-6cdf-4075-af4c-20314519682a"
      },
      "cell_type": "code",
      "source": [
        "correct = 0\n",
        "total = 0\n",
        "with torch.no_grad():\n",
        "    for data in testloader:\n",
        "        images, labels = data\n",
        "        outputs = net(images)\n",
        "        _, predicted = torch.max(outputs.data, 1)\n",
        "        total += labels.size(0)\n",
        "        correct += (predicted == labels).sum().item()\n",
        "\n",
        "print('Accuracy of the network on the 10000 test images: %d %%' % (\n",
        "    100 * correct / total))"
      ],
      "execution_count": 14,
      "outputs": [
        {
          "output_type": "stream",
          "text": [
            "Accuracy of the network on the 10000 test images: 55 %\n"
          ],
          "name": "stdout"
        }
      ]
    },
    {
      "metadata": {
        "id": "H6YHCfgBmbFE",
        "colab_type": "text"
      },
      "cell_type": "markdown",
      "source": [
        "That looks waaay better than chance, which is 10% accuracy (randomly picking\n",
        "a class out of 10 classes).\n",
        "Seems like the network learned something.\n",
        "\n",
        "Hmmm, what are the classes that performed well, and the classes that did\n",
        "not perform well:\n",
        "\n"
      ]
    },
    {
      "metadata": {
        "id": "_Y3L9GTOmbFE",
        "colab_type": "code",
        "colab": {
          "base_uri": "https://localhost:8080/",
          "height": 183
        },
        "outputId": "8fabb943-a68b-49b0-c164-fda7da0e568a"
      },
      "cell_type": "code",
      "source": [
        "class_correct = list(0. for i in range(10))\n",
        "class_total = list(0. for i in range(10))\n",
        "with torch.no_grad():\n",
        "    for data in testloader:\n",
        "        images, labels = data\n",
        "        outputs = net(images)\n",
        "        _, predicted = torch.max(outputs, 1)\n",
        "        c = (predicted == labels).squeeze()\n",
        "        for i in range(4):\n",
        "            label = labels[i]\n",
        "            class_correct[label] += c[i].item()\n",
        "            class_total[label] += 1\n",
        "\n",
        "\n",
        "for i in range(10):\n",
        "    print('Accuracy of %5s : %2d %%' % (\n",
        "        classes[i], 100 * class_correct[i] / class_total[i]))"
      ],
      "execution_count": 15,
      "outputs": [
        {
          "output_type": "stream",
          "text": [
            "Accuracy of plane : 49 %\n",
            "Accuracy of   car : 66 %\n",
            "Accuracy of  bird : 56 %\n",
            "Accuracy of   cat : 33 %\n",
            "Accuracy of  deer : 32 %\n",
            "Accuracy of   dog : 37 %\n",
            "Accuracy of  frog : 73 %\n",
            "Accuracy of horse : 62 %\n",
            "Accuracy of  ship : 77 %\n",
            "Accuracy of truck : 65 %\n"
          ],
          "name": "stdout"
        }
      ]
    },
    {
      "metadata": {
        "id": "_F5n5syOBEdr",
        "colab_type": "text"
      },
      "cell_type": "markdown",
      "source": [
        "So the network learned pretty well, but we can probably do better, especially in certain categories.\n",
        "\n",
        "For the rest of the learning lab, complete the exercises below to learn how to make a network run faster and learn better."
      ]
    },
    {
      "metadata": {
        "id": "hSokL5qNBNrp",
        "colab_type": "text"
      },
      "cell_type": "markdown",
      "source": [
        "# Exercises\n",
        "----------------------------------------\n",
        "\n",
        "## Batch Size\n",
        "\n",
        "One hyperparameter that needs to be tuned is batch size. When we made our dataloader, we used a batch size of 4. This means that instead of learning on one image at a time, the network is actually pulling in 4 images at a time (i.e. 4x3x32x32 data). We could use a larger or smaller batch size. What affects do you notice when you change the batch size?\n",
        "\n",
        "## Change the Network Structure\n",
        "\n",
        "The network design we chose was essentially arbitrary. Would a wider network do better? For example, try changing the width of the first layer (i.e. change argument 2 of the first ``nn.Conv2d``, and argument 1 of the second ``nn.Conv2d`` so that they are larger, but still the same number).\n",
        "\n",
        "What if we made a deeper network? Try adding another convolution layer into the previously defined network. Remember that you will need to change the ``__init__`` and ``forward`` methods.\n",
        "\n",
        "## Train for Longer\n",
        "\n",
        "Training the network for longer might allow it to learn more. This can be done by changing the number of times it goes through the data (what is commonly called epochs). Try changing the number of training epochs for the example above. It might also be helpful to save the training loss over time. That way, you can plot it and see when it stops decreasing.\n",
        "\n",
        "## Train on a GPU\n",
        "\n",
        "The benefit of using Google Colab is that you have access to a GPU. Right now, the network is only defined to run on a CPU, but with some simple modifications, you can greatly increase the speed of a network by allowing to run on a GPU.\n",
        "\n",
        "**Note: You may need to enable the GPU and rerun the notebook. Click Edit>Notebook Settings>Hardware Accelerator>GPU**\n",
        "\n",
        "The first thing we need to do is check if we have access to a GPU that runs CUDA:\n",
        "\n"
      ]
    },
    {
      "metadata": {
        "id": "ZrL8JNGaKVr5",
        "colab_type": "code",
        "colab": {
          "base_uri": "https://localhost:8080/",
          "height": 33
        },
        "outputId": "3e5e1441-9c2c-4fae-ed8d-32a4048353cc"
      },
      "cell_type": "code",
      "source": [
        "torch.cuda.is_available()"
      ],
      "execution_count": 3,
      "outputs": [
        {
          "output_type": "execute_result",
          "data": {
            "text/plain": [
              "True"
            ]
          },
          "metadata": {
            "tags": []
          },
          "execution_count": 3
        }
      ]
    },
    {
      "metadata": {
        "id": "TdAiR0UXKccv",
        "colab_type": "text"
      },
      "cell_type": "markdown",
      "source": [
        "If it is available, we want to move our network and our data to the GPU so the training can run having to move data. This can be done with a call that might look like this:\n"
      ]
    },
    {
      "metadata": {
        "id": "UC7zJar9K4VS",
        "colab_type": "code",
        "colab": {}
      },
      "cell_type": "code",
      "source": [
        "if torch.cuda.is_available():\n",
        "    net.cuda()\n",
        "    \n",
        "# Later in training loop\n",
        "if torch.cuda.is_available():\n",
        "    inputs = inputs.cuda()\n",
        "    labels = labels.cuda()\n",
        "    "
      ],
      "execution_count": 0,
      "outputs": []
    },
    {
      "metadata": {
        "id": "EC50ZZcCLPIo",
        "colab_type": "text"
      },
      "cell_type": "markdown",
      "source": [
        "Alternatively,"
      ]
    },
    {
      "metadata": {
        "id": "y7YMNEn5LSff",
        "colab_type": "code",
        "colab": {}
      },
      "cell_type": "code",
      "source": [
        "device = torch.device(\"cuda:0\" if torch.cuda.is_available() else \"cpu\")\n",
        "\n",
        "net.to(device)\n",
        "\n",
        "# Later in training loop\n",
        "inputs, labels = inputs.to(device), labels.to(device)"
      ],
      "execution_count": 0,
      "outputs": []
    },
    {
      "metadata": {
        "id": "3aeDs32_Lh8g",
        "colab_type": "text"
      },
      "cell_type": "markdown",
      "source": [
        "Now your network and data should be running on the GPU, which should make it much faster on a larger network. However, remember that if you ever want to visualize your results or save them, you will need to bring the values back to the CPU, which can be done with a simple ``data.cpu()`` call."
      ]
    },
    {
      "metadata": {
        "id": "tJDB6tjMmbFM",
        "colab_type": "text"
      },
      "cell_type": "markdown",
      "source": [
        "\n",
        "\n",
        "## Goals achieved\n",
        "\n",
        "- Understanding PyTorch's Tensor library and neural networks at a high level\n",
        "- Training a small neural network to classify images\n",
        "- Learning to modify networks to improve them\n",
        "\n"
      ]
    },
    {
      "metadata": {
        "id": "G55LIrc8MFVO",
        "colab_type": "code",
        "colab": {}
      },
      "cell_type": "code",
      "source": [
        ""
      ],
      "execution_count": 0,
      "outputs": []
    }
  ]
}