{
 "cells": [
  {
   "cell_type": "code",
   "execution_count": 25,
   "metadata": {},
   "outputs": [],
   "source": [
    "from math import hypot, pi, cos, sin\n",
    "from PIL import Image\n",
    " \n",
    " \n",
    "def hough(im, ntx=460, mry=360):\n",
    "    \"Calculate Hough transform.\"\n",
    "    pim = im.load()\n",
    "    nimx, mimy = im.size\n",
    "    mry = int(mry/2)*2          #Make sure that this is even\n",
    "    him = Image.new(\"L\", (ntx, mry), 255)\n",
    "    phim = him.load()\n",
    " \n",
    "    rmax = hypot(nimx, mimy)\n",
    "    dr = rmax / (mry/2)\n",
    "    dth = pi / ntx\n",
    " \n",
    "    for jx in range(nimx):\n",
    "        for iy in range(mimy):\n",
    "            col = pim[jx, iy]\n",
    "            if col == 255: continue # because 255 is white pixel, so no edge\n",
    "            for jtx in range(ntx):\n",
    "                th = dth * jtx\n",
    "                r = jx*cos(th) + iy*sin(th)\n",
    "                iry = mry/2 + int(r/dr+0.5)\n",
    "                phim[jtx, iry] -= 1\n",
    "    return him\n",
    " \n",
    " \n",
    "im = Image.open(\"hough_images/pentagon.jpg\").convert(\"L\")\n",
    "him = hough(im, ntx=360, mry=460)"
   ]
  },
  {
   "cell_type": "code",
   "execution_count": 22,
   "metadata": {},
   "outputs": [
    {
     "data": {
      "image/png": "[encoded data removed]",
      "text/plain": [
       "<Figure size 432x288 with 1 Axes>"
      ]
     },
     "metadata": {
      "needs_background": "light"
     },
     "output_type": "display_data"
    }
   ],
   "source": [
    "import matplotlib.pyplot as plt\n",
    "import numpy as np\n",
    "\n",
    "plt.imshow(np.array(him), cmap='gray')\n",
    "plt.show()"
   ]
  },
  {
   "cell_type": "code",
   "execution_count": 24,
   "metadata": {},
   "outputs": [
    {
     "data": {
      "text/plain": [
       "array([[255, 255, 255, 255, 255, 255, 255, 255, 255, 255, 255, 255, 255,\n",
       "        255, 255, 255, 255, 255, 255, 255],\n",
       "       [255, 255, 255, 255, 255, 255, 255, 255, 255, 255, 255, 255, 255,\n",
       "        255, 255, 255, 255, 255, 255, 255],\n",
       "       [255, 255, 255, 255, 255, 255, 255, 255, 255, 255, 255, 255, 255,\n",
       "        255, 255, 255, 255, 255, 255, 255],\n",
       "       [255, 255, 255, 255, 255, 255, 255, 255, 255, 255, 255, 255, 255,\n",
       "        255, 255, 255, 255, 255,   0,   0],\n",
       "       [255, 255, 255, 255, 255, 255, 255, 255, 255, 255, 255, 255, 255,\n",
       "        255, 255, 255,   0,   0,   0,   0],\n",
       "       [  0,   0, 255, 255, 255, 255, 255, 255, 255, 162,   0,   0,   0,\n",
       "          0,   0,   0,   0,   0,   0,   0],\n",
       "       [  0,   0,   0,   0,   0,   0,   0,   0,   0,   0,   0,   0,   0,\n",
       "          0,   0,   0,   0,   0, 255, 255],\n",
       "       [  0,   0,   0,   0,   0,   0,   0,   0,   0,   0,   0,   0,   0,\n",
       "          0,   0,   0, 255, 255, 255, 255],\n",
       "       [  0,   0,   0,   0,   0,   0,   0,   0,   0,   0,   0,   0,   0,\n",
       "          0, 255, 255, 255, 255, 255, 255],\n",
       "       [255,   0,   0,   0,   0,   0,   0,   0,   0,   0, 255, 255, 255,\n",
       "        255, 255, 255, 255, 255, 255, 255]], dtype=uint8)"
      ]
     },
     "execution_count": 24,
     "metadata": {},
     "output_type": "execute_result"
    }
   ],
   "source": [
    "np.array(him)"
   ]
  }
 ],
 "metadata": {
  "kernelspec": {
   "display_name": "Python 3",
   "language": "python",
   "name": "python3"
  },
  "language_info": {
   "codemirror_mode": {
    "name": "ipython",
    "version": 3
   },
   "file_extension": ".py",
   "mimetype": "text/x-python",
   "name": "python",
   "nbconvert_exporter": "python",
   "pygments_lexer": "ipython3",
   "version": "3.6.6"
  }
 },
 "nbformat": 4,
 "nbformat_minor": 2
}
